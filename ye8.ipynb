{
  "nbformat": 4,
  "nbformat_minor": 0,
  "metadata": {
    "colab": {
      "provenance": []
    },
    "kernelspec": {
      "name": "python3",
      "display_name": "Python 3"
    },
    "language_info": {
      "name": "python"
    }
  },
  "cells": [
    {
      "cell_type": "code",
      "execution_count": 107,
      "metadata": {
        "id": "-on54kUrToSi"
      },
      "outputs": [],
      "source": [
        "import math as m\n",
        "import decimal\n",
        "import scipy.stats as stats\n",
        "import random\n",
        "import numpy as np\n",
        "from scipy.stats import chi2"
      ]
    },
    {
      "cell_type": "code",
      "source": [
        "#1.1\n",
        "def pi_bbp(precision):\n",
        "    decimal.getcontext().prec = precision + 1\n",
        "    pi = decimal.Decimal(0)\n",
        "    for k in range(precision):\n",
        "        pi += (decimal.Decimal(1)/(16**k))*((decimal.Decimal(4)/(8*k+1))-(decimal.Decimal(2)/(8*k+4))-(decimal.Decimal(1)/(8*k+5))-(decimal.Decimal(1)/(8*k+6)))\n",
        "    return pi\n",
        "\n",
        "prak_pi = pi_bbp(1000) - 3\n",
        "pi_str = str(prak_pi)[2:]\n",
        "pi_dig = [int(d) for d in pi_str]\n",
        "a = np.full(10,0)\n",
        "for i in range(len(pi_dig)):\n",
        "  a[pi_dig[i]]+=1\n",
        "print(a)\n",
        "b = np.full(10,0)\n",
        "c = np.random.sample(1000)\n",
        "c = [int(d*10) for d in c]\n",
        "print(c)\n",
        "for i in range(len(c)):\n",
        "  b[c[i]]+=1\n",
        "stats.chisquare(f_obs=a , f_exp=b)"
      ],
      "metadata": {
        "colab": {
          "base_uri": "https://localhost:8080/"
        },
        "id": "3HxnxPv5Vhgs",
        "outputId": "7ea59b74-1eb9-4229-c3ea-23c6404c26af"
      },
      "execution_count": 92,
      "outputs": [
        {
          "output_type": "stream",
          "name": "stdout",
          "text": [
            "[ 93 116 103 102  93  97  94  95 101 106]\n",
            "[4, 2, 4, 5, 9, 8, 8, 6, 4, 4, 9, 9, 1, 7, 8, 2, 9, 5, 8, 1, 4, 8, 9, 6, 4, 2, 1, 7, 4, 2, 0, 3, 9, 5, 4, 0, 1, 3, 1, 0, 2, 5, 8, 5, 1, 7, 5, 5, 1, 0, 8, 2, 2, 7, 9, 8, 4, 3, 6, 5, 5, 0, 1, 7, 1, 2, 5, 9, 6, 2, 2, 7, 4, 6, 8, 3, 7, 6, 7, 2, 6, 1, 3, 3, 5, 3, 5, 5, 1, 7, 1, 3, 6, 7, 2, 5, 1, 6, 2, 5, 9, 4, 1, 5, 6, 5, 8, 8, 0, 7, 9, 1, 8, 1, 2, 8, 2, 5, 3, 9, 7, 0, 8, 8, 2, 3, 8, 0, 4, 7, 9, 2, 4, 3, 7, 9, 1, 4, 3, 2, 3, 6, 2, 7, 7, 9, 8, 2, 6, 7, 9, 8, 9, 4, 3, 7, 1, 7, 6, 6, 9, 0, 5, 2, 8, 3, 4, 8, 2, 7, 7, 1, 2, 6, 3, 5, 1, 5, 0, 1, 0, 2, 0, 3, 7, 2, 1, 0, 0, 0, 2, 7, 0, 5, 8, 6, 8, 7, 8, 2, 0, 4, 7, 1, 4, 2, 2, 5, 1, 7, 6, 7, 8, 7, 6, 4, 8, 1, 1, 5, 5, 9, 8, 3, 6, 3, 0, 0, 2, 5, 4, 9, 8, 0, 0, 3, 7, 6, 0, 6, 6, 0, 0, 4, 0, 2, 8, 4, 5, 4, 6, 2, 8, 2, 9, 1, 6, 8, 3, 1, 8, 8, 2, 9, 3, 7, 8, 1, 7, 5, 8, 6, 0, 1, 6, 1, 5, 5, 2, 6, 1, 2, 8, 8, 3, 5, 8, 1, 8, 0, 2, 3, 8, 5, 7, 5, 8, 6, 6, 6, 2, 6, 8, 1, 0, 4, 2, 3, 6, 8, 8, 9, 5, 2, 4, 8, 4, 0, 2, 6, 7, 5, 6, 7, 3, 1, 8, 0, 5, 1, 0, 6, 4, 5, 6, 4, 5, 2, 5, 6, 2, 2, 7, 5, 8, 2, 6, 9, 9, 4, 9, 7, 2, 2, 2, 0, 2, 4, 2, 5, 7, 7, 0, 5, 0, 2, 5, 5, 8, 3, 4, 5, 8, 1, 7, 1, 2, 0, 0, 6, 9, 4, 8, 2, 2, 1, 4, 2, 5, 8, 3, 9, 4, 9, 8, 9, 9, 0, 6, 7, 7, 6, 9, 9, 0, 4, 0, 2, 4, 0, 2, 6, 1, 5, 8, 7, 1, 0, 0, 1, 4, 1, 1, 2, 5, 8, 9, 8, 7, 3, 9, 0, 0, 7, 6, 3, 2, 6, 9, 3, 9, 4, 9, 3, 6, 9, 3, 6, 7, 2, 8, 1, 6, 1, 8, 2, 3, 4, 5, 1, 1, 3, 6, 2, 5, 7, 0, 0, 5, 1, 2, 9, 3, 4, 2, 9, 9, 1, 4, 4, 7, 2, 4, 3, 6, 5, 5, 1, 7, 5, 6, 0, 4, 8, 8, 3, 8, 5, 1, 9, 9, 0, 9, 1, 4, 9, 3, 7, 8, 8, 2, 3, 3, 7, 2, 1, 9, 3, 0, 2, 3, 7, 7, 8, 5, 1, 4, 4, 5, 9, 4, 5, 8, 4, 8, 9, 9, 3, 2, 1, 3, 6, 1, 3, 9, 6, 3, 1, 8, 2, 7, 1, 5, 0, 7, 3, 8, 2, 3, 2, 4, 6, 5, 1, 2, 2, 8, 4, 7, 1, 8, 4, 8, 9, 1, 7, 5, 1, 5, 7, 9, 3, 2, 1, 1, 9, 1, 6, 0, 1, 7, 3, 2, 5, 8, 7, 2, 8, 5, 9, 1, 9, 2, 9, 4, 8, 3, 9, 4, 6, 1, 1, 6, 2, 3, 2, 9, 2, 1, 3, 9, 3, 0, 6, 5, 8, 4, 9, 0, 5, 4, 9, 9, 2, 5, 2, 6, 7, 6, 6, 3, 0, 2, 2, 2, 8, 5, 6, 0, 8, 5, 3, 2, 9, 7, 7, 9, 4, 4, 3, 2, 5, 5, 7, 4, 0, 2, 3, 2, 0, 9, 1, 1, 6, 7, 4, 3, 9, 8, 2, 3, 2, 5, 3, 0, 1, 8, 9, 0, 9, 5, 8, 7, 5, 8, 9, 3, 5, 9, 2, 9, 2, 6, 3, 3, 3, 9, 7, 3, 5, 7, 8, 3, 9, 0, 8, 3, 9, 2, 7, 9, 6, 1, 8, 5, 4, 7, 7, 5, 3, 4, 2, 8, 6, 0, 6, 8, 4, 1, 4, 6, 2, 0, 7, 5, 6, 9, 1, 8, 7, 1, 6, 1, 0, 2, 1, 3, 7, 4, 3, 7, 5, 8, 1, 8, 2, 5, 4, 6, 7, 0, 2, 4, 2, 5, 8, 5, 8, 0, 2, 7, 9, 0, 1, 4, 2, 2, 8, 4, 1, 2, 2, 2, 4, 4, 9, 9, 3, 7, 6, 6, 3, 1, 2, 6, 4, 5, 9, 2, 4, 7, 1, 7, 2, 1, 6, 6, 9, 3, 2, 9, 9, 5, 2, 1, 6, 9, 0, 9, 0, 3, 2, 1, 3, 9, 2, 0, 4, 4, 3, 2, 4, 1, 3, 8, 6, 6, 1, 9, 4, 2, 2, 1, 8, 0, 1, 1, 1, 1, 1, 1, 6, 2, 7, 5, 2, 1, 8, 7, 9, 0, 0, 1, 8, 3, 3, 0, 7, 9, 0, 5, 5, 0, 9, 6, 7, 8, 0, 6, 4, 1, 7, 3, 9, 1, 7, 5, 5, 4, 8, 2, 3, 8, 4, 8, 9, 7, 9, 4, 7, 0, 4, 2, 4, 7, 7, 7, 1, 2, 9, 5, 8, 6, 1, 8, 7, 3, 8, 4, 0, 2, 4, 5, 5, 9, 5, 7, 4, 4, 5, 6, 6, 1, 4, 4, 4, 0, 8, 5, 5, 7, 7, 4, 9, 8, 5, 2, 4, 8, 8, 8, 7, 4, 2, 7, 3, 6, 7, 3, 6, 5, 1, 2, 7, 2, 2, 1, 5, 0, 6, 3, 6, 8, 1, 5, 4, 9, 2, 4, 3, 6, 1, 7, 6, 6, 2, 3, 5, 6, 0]\n"
          ]
        },
        {
          "output_type": "execute_result",
          "data": {
            "text/plain": [
              "Power_divergenceResult(statistic=11.540736951938962, pvalue=0.2404552316119401)"
            ]
          },
          "metadata": {},
          "execution_count": 92
        }
      ]
    },
    {
      "cell_type": "code",
      "source": [
        "#1.2\n",
        "N = 2020\n",
        "Nm = 527\n",
        "Nd = 476\n",
        "Nmd = N - Nm - Nd\n",
        "t = (Nmd+ 2*Nm)/(2*N)\n",
        "p = 0.05\n",
        "print(t)\n",
        "RealStat = [Nd/N, Nmd/N , Nm/N]\n",
        "OStat = [(1-t)**2, (1-t)*t , t**2]\n",
        "print(OStat)\n",
        "print(RealStat)\n",
        "RS = np.array([Nd, Nmd,Nd])\n",
        "OS = np.array([int(N*(1-t)**2),int(2*N*(1-t)*t),int(N*t**2) ])\n",
        "print(RS)\n",
        "print(OS)\n",
        "chi2_stat = ((OS - RS)/ RS).sum()\n",
        "chi2_crit = chi2.ppf(1- 0.05, 2)\n",
        "p_v = 1 - chi2.cdf(chi2_stat, 2)\n",
        "\n",
        "print(p_v)\n"
      ],
      "metadata": {
        "colab": {
          "base_uri": "https://localhost:8080/"
        },
        "id": "iSdrymMLbAZl",
        "outputId": "711b71a9-879c-4cc5-922b-4d4d5d51d641"
      },
      "execution_count": 115,
      "outputs": [
        {
          "output_type": "stream",
          "name": "stdout",
          "text": [
            "0.5126237623762376\n",
            "[0.23753559700029409, 0.24984064062346828, 0.26278312175276936]\n",
            "[0.23564356435643563, 0.5034653465346535, 0.2608910891089109]\n",
            "[ 476 1017  476]\n",
            "[ 479 1009  530]\n",
            "0.9455951012628329\n"
          ]
        }
      ]
    },
    {
      "cell_type": "code",
      "source": [
        "#1.3\n",
        "import pandas as pd\n",
        "import scipy.stats as stats\n",
        "f = pd.read_csv(\"Priem.txt\", delimiter=';')"
      ],
      "metadata": {
        "id": "vT5bj9HwqBaZ"
      },
      "execution_count": 162,
      "outputs": []
    },
    {
      "cell_type": "code",
      "source": [
        "m = f[(f[\"Пол\"] == \"МУЖСКОЙ\")]\n",
        "BM = list(m[\"ЕГЭ...матем.\"])\n",
        "BR = list(m[\"ЕГЭ...рус.яз.\"])\n",
        "SM = list(m[\"Сумма.баллов\"])\n",
        "d = f[(f[\"Пол\"] == \"ЖЕНСКИЙ\")]\n",
        "BMD = list(d[\"ЕГЭ...матем.\"])\n",
        "BRD = list(d[\"ЕГЭ...рус.яз.\"])\n",
        "SD = list(d[\"Сумма.баллов\"])"
      ],
      "metadata": {
        "id": "TP1InSNBq2TC"
      },
      "execution_count": 156,
      "outputs": []
    },
    {
      "cell_type": "code",
      "source": [
        "\n",
        "t1,p1 = stats.ttest_ind(SM,SD)\n",
        "print(t,p)\n"
      ],
      "metadata": {
        "colab": {
          "base_uri": "https://localhost:8080/"
        },
        "id": "1e2sCZcqua9w",
        "outputId": "4cff18a7-04fc-48e6-e497-ebc0144559ef"
      },
      "execution_count": 177,
      "outputs": [
        {
          "output_type": "stream",
          "name": "stdout",
          "text": [
            "-0.7336120849929042 0.46330908415330374\n"
          ]
        }
      ]
    }
  ]
}